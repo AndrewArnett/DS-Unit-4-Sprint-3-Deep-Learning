{
  "nbformat": 4,
  "nbformat_minor": 0,
  "metadata": {
    "kernelspec": {
      "display_name": "U4-S2-NNF-DS10",
      "language": "python",
      "name": "u4-s2-nnf-ds10"
    },
    "language_info": {
      "codemirror_mode": {
        "name": "ipython",
        "version": 3
      },
      "file_extension": ".py",
      "mimetype": "text/x-python",
      "name": "python",
      "nbconvert_exporter": "python",
      "pygments_lexer": "ipython3",
      "version": "3.7.6"
    },
    "nteract": {
      "version": "0.23.1"
    },
    "colab": {
      "name": "LS_DS_432_Convolution_Neural_Networks_Assignment.ipynb",
      "provenance": []
    },
    "accelerator": "GPU"
  },
  "cells": [
    {
      "cell_type": "markdown",
      "metadata": {
        "id": "tnpNnH1ua8X8",
        "colab_type": "text"
      },
      "source": [
        "<img align=\"left\" src=\"https://lever-client-logos.s3.amazonaws.com/864372b1-534c-480e-acd5-9711f850815c-1524247202159.png\" width=200>\n",
        "<br></br>\n",
        "<br></br>\n",
        "\n",
        "## *Data Science Unit 4 Sprint 3 Assignment 2*\n",
        "# Convolutional Neural Networks (CNNs)"
      ]
    },
    {
      "cell_type": "markdown",
      "metadata": {
        "colab_type": "text",
        "id": "0lfZdD_cp1t5"
      },
      "source": [
        "# Assignment\n",
        "\n",
        "- <a href=\"#p1\">Part 1:</a> Pre-Trained Model\n",
        "- <a href=\"#p2\">Part 2:</a> Custom CNN Model\n",
        "- <a href=\"#p3\">Part 3:</a> CNN with Data Augmentation\n",
        "\n",
        "\n",
        "You will apply three different CNN models to a binary image classification model using Keras. Classify images of Mountains (`./data/train/mountain/*`) and images of forests (`./data/train/forest/*`). Treat mountains as the positive class (1) and the forest images as the negative (zero). \n",
        "\n",
        "|Mountain (+)|Forest (-)|\n",
        "|---|---|\n",
        "|![](https://github.com/fataik1/DS-Unit-4-Sprint-3-Deep-Learning/blob/master/module2-convolutional-neural-networks/data/train/mountain/art1131.jpg?raw=1)|![](https://github.com/fataik1/DS-Unit-4-Sprint-3-Deep-Learning/blob/master/module2-convolutional-neural-networks/data/validation/forest/cdmc317.jpg?raw=1)|\n",
        "\n",
        "The problem is relatively difficult given that the sample is tiny: there are about 350 observations per class. This sample size might be something that you can expect with prototyping an image classification problem/solution at work. Get accustomed to evaluating several different possible models."
      ]
    },
    {
      "cell_type": "markdown",
      "metadata": {
        "colab_type": "text",
        "id": "2lf5nDhMa8X_"
      },
      "source": [
        "# Pre - Trained Model\n",
        "<a id=\"p1\"></a>\n",
        "\n",
        "Load a pretrained network from Keras, [ResNet50](https://tfhub.dev/google/imagenet/resnet_v1_50/classification/1) - a 50 layer deep network trained to recognize [1000 objects](https://storage.googleapis.com/download.tensorflow.org/data/ImageNetLabels.txt). Starting usage:\n",
        "\n",
        "```python\n",
        "import numpy as np\n",
        "\n",
        "from tensorflow.keras.applications.resnet50 import ResNet50\n",
        "from tensorflow.keras.preprocessing import image\n",
        "from tensorflow.keras.applications.resnet50 import preprocess_input, decode_predictions\n",
        "\n",
        "from tensorflow.keras.layers import Dense, GlobalAveragePooling2D\n",
        "from tensorflow.keras.models import Model # This is the functional API\n",
        "\n",
        "resnet = ResNet50(weights='imagenet', include_top=False)\n",
        "\n",
        "```\n",
        "\n",
        "The `include_top` parameter in `ResNet50` will remove the full connected layers from the ResNet model. The next step is to turn off the training of the ResNet layers. We want to use the learned parameters without updating them in future training passes. \n",
        "\n",
        "```python\n",
        "for layer in resnet.layers:\n",
        "    layer.trainable = False\n",
        "```\n",
        "\n",
        "Using the Keras functional API, we will need to additional additional full connected layers to our model. We we removed the top layers, we removed all preivous fully connected layers. In other words, we kept only the feature processing portions of our network. You can expert with additional layers beyond what's listed here. The `GlobalAveragePooling2D` layer functions as a really fancy flatten function by taking the average of each of the last convolutional layer outputs (which is two dimensional still). \n",
        "\n",
        "```python\n",
        "x = resnet.output\n",
        "x = GlobalAveragePooling2D()(x) # This layer is a really fancy flatten\n",
        "x = Dense(1024, activation='relu')(x)\n",
        "predictions = Dense(1, activation='sigmoid')(x)\n",
        "model = Model(resnet.input, predictions)\n",
        "```\n",
        "\n",
        "Your assignment is to apply the transfer learning above to classify images of Mountains (`./data/train/mountain/*`) and images of forests (`./data/train/forest/*`). Treat mountains as the positive class (1) and the forest images as the negative (zero). \n",
        "\n",
        "Steps to complete assignment: \n",
        "1. Load in Image Data into numpy arrays (`X`) \n",
        "2. Create a `y` for the labels\n",
        "3. Train your model with pre-trained layers from resnet\n",
        "4. Report your model's accuracy"
      ]
    },
    {
      "cell_type": "markdown",
      "metadata": {
        "id": "TkD0Ei6Ca8YB",
        "colab_type": "text"
      },
      "source": [
        "## Load in Data\n",
        "\n",
        "This surprisingly more difficult than it seems, because you are working with directories of images instead of a single file. This boiler plate will help you download a zipped version of the directory of images. The directory is organized into \"train\" and \"validation\" which you can use inside an `ImageGenerator` class to stream batches of images thru your model.  \n"
      ]
    },
    {
      "cell_type": "markdown",
      "metadata": {
        "id": "vWJIZGEaa8YC",
        "colab_type": "text"
      },
      "source": [
        "### Download & Summarize the Data\n",
        "\n",
        "This step is completed for you. Just run the cells and review the results. "
      ]
    },
    {
      "cell_type": "code",
      "metadata": {
        "id": "csoZAOgDa8YC",
        "colab_type": "code",
        "colab": {
          "base_uri": "https://localhost:8080/",
          "height": 51
        },
        "outputId": "fdb38924-f3c5-4069-c9d1-a25538cf58cd"
      },
      "source": [
        "import tensorflow as tf\n",
        "import os\n",
        "\n",
        "_URL = 'https://github.com/LambdaSchool/DS-Unit-4-Sprint-3-Deep-Learning/blob/master/module2-convolutional-neural-networks/data.zip?raw=true'\n",
        "\n",
        "path_to_zip = tf.keras.utils.get_file('./data.zip', origin=_URL, extract=True)\n",
        "PATH = os.path.join(os.path.dirname(path_to_zip), 'data')"
      ],
      "execution_count": 1,
      "outputs": [
        {
          "output_type": "stream",
          "text": [
            "Downloading data from https://github.com/LambdaSchool/DS-Unit-4-Sprint-3-Deep-Learning/blob/master/module2-convolutional-neural-networks/data.zip?raw=true\n",
            "42172416/42170838 [==============================] - 1s 0us/step\n"
          ],
          "name": "stdout"
        }
      ]
    },
    {
      "cell_type": "code",
      "metadata": {
        "id": "6zzeYQuCa8YI",
        "colab_type": "code",
        "colab": {}
      },
      "source": [
        "train_dir = os.path.join(PATH, 'train')\n",
        "validation_dir = os.path.join(PATH, 'validation')"
      ],
      "execution_count": 2,
      "outputs": []
    },
    {
      "cell_type": "code",
      "metadata": {
        "id": "uPrOi12ma8YO",
        "colab_type": "code",
        "colab": {}
      },
      "source": [
        "train_mountain_dir = os.path.join(train_dir, 'mountain')  # directory with our training cat pictures\n",
        "train_forest_dir = os.path.join(train_dir, 'forest')  # directory with our training dog pictures\n",
        "validation_mountain_dir = os.path.join(validation_dir, 'mountain')  # directory with our validation cat pictures\n",
        "validation_forest_dir = os.path.join(validation_dir, 'forest')  # directory with our validation dog pictures"
      ],
      "execution_count": 3,
      "outputs": []
    },
    {
      "cell_type": "code",
      "metadata": {
        "id": "r1B0PiA3a8YS",
        "colab_type": "code",
        "colab": {}
      },
      "source": [
        "num_mountain_tr = len(os.listdir(train_mountain_dir))\n",
        "num_forest_tr = len(os.listdir(train_forest_dir))\n",
        "\n",
        "num_mountain_val = len(os.listdir(validation_mountain_dir))\n",
        "num_forest_val = len(os.listdir(validation_forest_dir))\n",
        "\n",
        "total_train = num_mountain_tr + num_forest_tr\n",
        "total_val = num_mountain_val + num_forest_val"
      ],
      "execution_count": 4,
      "outputs": []
    },
    {
      "cell_type": "code",
      "metadata": {
        "id": "8eLjBl_ra8YX",
        "colab_type": "code",
        "colab": {
          "base_uri": "https://localhost:8080/",
          "height": 136
        },
        "outputId": "eccb254b-0498-46b0-ed37-36847d8e2023"
      },
      "source": [
        "print('total training mountain images:', num_mountain_tr)\n",
        "print('total training forest images:', num_forest_tr)\n",
        "\n",
        "print('total validation mountain images:', num_mountain_val)\n",
        "print('total validation forest images:', num_forest_val)\n",
        "print(\"--\")\n",
        "print(\"Total training images:\", total_train)\n",
        "print(\"Total validation images:\", total_val)"
      ],
      "execution_count": 5,
      "outputs": [
        {
          "output_type": "stream",
          "text": [
            "total training mountain images: 254\n",
            "total training forest images: 270\n",
            "total validation mountain images: 125\n",
            "total validation forest images: 62\n",
            "--\n",
            "Total training images: 524\n",
            "Total validation images: 187\n"
          ],
          "name": "stdout"
        }
      ]
    },
    {
      "cell_type": "markdown",
      "metadata": {
        "id": "PMakrKbDa8Ya",
        "colab_type": "text"
      },
      "source": [
        "### Keras `ImageGenerator` to Process the Data\n",
        "\n",
        "This step is completed for you, but please review the code. The `ImageGenerator` class reads in batches of data from a directory and pass them to the model one batch at a time. Just like large text files, this method is advantageous, because it stifles the need to load a bunch of images into memory. \n",
        "\n",
        "Check out the documentation for this class method: [Keras `ImageGenerator` Class](https://keras.io/preprocessing/image/#imagedatagenerator-class). You'll expand it's use in the third assignment objective."
      ]
    },
    {
      "cell_type": "code",
      "metadata": {
        "id": "JO2XGMqua8Yb",
        "colab_type": "code",
        "colab": {}
      },
      "source": [
        "batch_size = 16\n",
        "epochs = 50\n",
        "IMG_HEIGHT = 224\n",
        "IMG_WIDTH = 224"
      ],
      "execution_count": 6,
      "outputs": []
    },
    {
      "cell_type": "code",
      "metadata": {
        "id": "HsmvkqNTa8Yf",
        "colab_type": "code",
        "colab": {}
      },
      "source": [
        "from tensorflow.keras.preprocessing.image import ImageDataGenerator\n",
        "\n",
        "train_image_generator = ImageDataGenerator(rescale=1./255) # Generator for our training data\n",
        "validation_image_generator = ImageDataGenerator(rescale=1./255) # Generator for our validation data"
      ],
      "execution_count": 7,
      "outputs": []
    },
    {
      "cell_type": "code",
      "metadata": {
        "id": "_Pbg2Usla8Yi",
        "colab_type": "code",
        "colab": {
          "base_uri": "https://localhost:8080/",
          "height": 34
        },
        "outputId": "2ab2dd7f-4594-4d8d-d285-6f393afaf05e"
      },
      "source": [
        "train_data_gen = train_image_generator.flow_from_directory(batch_size=batch_size,\n",
        "                                                           directory=train_dir,\n",
        "                                                           shuffle=True,\n",
        "                                                           target_size=(IMG_HEIGHT, IMG_WIDTH),\n",
        "                                                           class_mode='binary')"
      ],
      "execution_count": 8,
      "outputs": [
        {
          "output_type": "stream",
          "text": [
            "Found 533 images belonging to 2 classes.\n"
          ],
          "name": "stdout"
        }
      ]
    },
    {
      "cell_type": "code",
      "metadata": {
        "id": "ADKjc_aqa8Yl",
        "colab_type": "code",
        "colab": {
          "base_uri": "https://localhost:8080/",
          "height": 34
        },
        "outputId": "f551cc22-fbe7-40b2-8b7c-7d7449f099bf"
      },
      "source": [
        "val_data_gen = validation_image_generator.flow_from_directory(batch_size=batch_size,\n",
        "                                                              directory=validation_dir,\n",
        "                                                              target_size=(IMG_HEIGHT, IMG_WIDTH),\n",
        "                                                              class_mode='binary')"
      ],
      "execution_count": 9,
      "outputs": [
        {
          "output_type": "stream",
          "text": [
            "Found 195 images belonging to 2 classes.\n"
          ],
          "name": "stdout"
        }
      ]
    },
    {
      "cell_type": "markdown",
      "metadata": {
        "id": "n4mkqXmla8Yn",
        "colab_type": "text"
      },
      "source": [
        "## Instatiate Model"
      ]
    },
    {
      "cell_type": "code",
      "metadata": {
        "id": "WAlNAdF5a8Yq",
        "colab_type": "code",
        "colab": {
          "base_uri": "https://localhost:8080/",
          "height": 51
        },
        "outputId": "1be0ba94-06d5-428e-f13e-20e05f85c0b5"
      },
      "source": [
        "import numpy as np\n",
        " \n",
        "from tensorflow.keras.applications.resnet50 import ResNet50\n",
        "from tensorflow.keras.preprocessing import image\n",
        "from tensorflow.keras.applications.resnet50 import preprocess_input, decode_predictions\n",
        " \n",
        "from tensorflow.keras.layers import Dense, GlobalAveragePooling2D\n",
        "from tensorflow.keras.models import Model # This is the functional API\n",
        " \n",
        "resnet = ResNet50(weights='imagenet', include_top=False)"
      ],
      "execution_count": 10,
      "outputs": [
        {
          "output_type": "stream",
          "text": [
            "Downloading data from https://storage.googleapis.com/tensorflow/keras-applications/resnet/resnet50_weights_tf_dim_ordering_tf_kernels_notop.h5\n",
            "94773248/94765736 [==============================] - 1s 0us/step\n"
          ],
          "name": "stdout"
        }
      ]
    },
    {
      "cell_type": "code",
      "metadata": {
        "id": "iulDcOvBwLzy",
        "colab_type": "code",
        "colab": {}
      },
      "source": [
        "resnet = ResNet50(weights='imagenet', include_top=False)\n",
        "\n",
        "for layer in resnet.layers:\n",
        "    layer.trainable = False\n",
        "\n",
        "x = resnet.output\n",
        "x = GlobalAveragePooling2D()(x) # This layer is a really fancy flatten\n",
        "x = Dense(1024, activation='relu')(x)\n",
        "predictions = Dense(1, activation='sigmoid')(x)\n",
        "model = Model(resnet.input, predictions)"
      ],
      "execution_count": 11,
      "outputs": []
    },
    {
      "cell_type": "code",
      "metadata": {
        "id": "VoPBYQb5x_nc",
        "colab_type": "code",
        "colab": {}
      },
      "source": [
        "# compile the model\n",
        "\n",
        "model.compile(optimizer='adam',\n",
        "              loss='binary_crossentropy',\n",
        "              metrics=['accuracy'])"
      ],
      "execution_count": 12,
      "outputs": []
    },
    {
      "cell_type": "markdown",
      "metadata": {
        "id": "y3dh_GNNa8Yv",
        "colab_type": "text"
      },
      "source": [
        "## Fit Model"
      ]
    },
    {
      "cell_type": "code",
      "metadata": {
        "id": "5yv2Hm-Pa8Yv",
        "colab_type": "code",
        "colab": {
          "base_uri": "https://localhost:8080/",
          "height": 1000
        },
        "outputId": "dc09bafb-9d3e-4e22-fd4b-4056a39cf07f"
      },
      "source": [
        "history = model.fit(\n",
        "    train_data_gen,\n",
        "    steps_per_epoch=total_train // batch_size,\n",
        "    epochs=epochs,\n",
        "    validation_data=val_data_gen,\n",
        "    validation_steps=total_val // batch_size\n",
        ")"
      ],
      "execution_count": 13,
      "outputs": [
        {
          "output_type": "stream",
          "text": [
            "Epoch 1/50\n",
            "32/32 [==============================] - 6s 203ms/step - loss: 0.8752 - accuracy: 0.5489 - val_loss: 1.0586 - val_accuracy: 0.3523\n",
            "Epoch 2/50\n",
            "32/32 [==============================] - 5s 156ms/step - loss: 0.6389 - accuracy: 0.6088 - val_loss: 0.5974 - val_accuracy: 0.7216\n",
            "Epoch 3/50\n",
            "32/32 [==============================] - 5s 155ms/step - loss: 0.5572 - accuracy: 0.6667 - val_loss: 0.4487 - val_accuracy: 0.8125\n",
            "Epoch 4/50\n",
            "32/32 [==============================] - 5s 156ms/step - loss: 0.4759 - accuracy: 0.7924 - val_loss: 0.6375 - val_accuracy: 0.5909\n",
            "Epoch 5/50\n",
            "32/32 [==============================] - 5s 155ms/step - loss: 0.4795 - accuracy: 0.7705 - val_loss: 0.4099 - val_accuracy: 0.8693\n",
            "Epoch 6/50\n",
            "32/32 [==============================] - 5s 156ms/step - loss: 0.4560 - accuracy: 0.7585 - val_loss: 0.4168 - val_accuracy: 0.7386\n",
            "Epoch 7/50\n",
            "32/32 [==============================] - 5s 156ms/step - loss: 0.4057 - accuracy: 0.8244 - val_loss: 0.4200 - val_accuracy: 0.8409\n",
            "Epoch 8/50\n",
            "32/32 [==============================] - 5s 156ms/step - loss: 0.3501 - accuracy: 0.8782 - val_loss: 0.3400 - val_accuracy: 0.8920\n",
            "Epoch 9/50\n",
            "32/32 [==============================] - 5s 157ms/step - loss: 0.3484 - accuracy: 0.8623 - val_loss: 0.4328 - val_accuracy: 0.8295\n",
            "Epoch 10/50\n",
            "32/32 [==============================] - 5s 158ms/step - loss: 0.3277 - accuracy: 0.8703 - val_loss: 0.4322 - val_accuracy: 0.8409\n",
            "Epoch 11/50\n",
            "32/32 [==============================] - 5s 159ms/step - loss: 0.2855 - accuracy: 0.9062 - val_loss: 0.3189 - val_accuracy: 0.8580\n",
            "Epoch 12/50\n",
            "32/32 [==============================] - 5s 158ms/step - loss: 0.2828 - accuracy: 0.8962 - val_loss: 0.2958 - val_accuracy: 0.8807\n",
            "Epoch 13/50\n",
            "32/32 [==============================] - 5s 159ms/step - loss: 0.3627 - accuracy: 0.8403 - val_loss: 0.2748 - val_accuracy: 0.9091\n",
            "Epoch 14/50\n",
            "32/32 [==============================] - 5s 158ms/step - loss: 0.2451 - accuracy: 0.9182 - val_loss: 0.3414 - val_accuracy: 0.8409\n",
            "Epoch 15/50\n",
            "32/32 [==============================] - 5s 157ms/step - loss: 0.2322 - accuracy: 0.9142 - val_loss: 0.2840 - val_accuracy: 0.8920\n",
            "Epoch 16/50\n",
            "32/32 [==============================] - 5s 158ms/step - loss: 0.2238 - accuracy: 0.9301 - val_loss: 0.3072 - val_accuracy: 0.8295\n",
            "Epoch 17/50\n",
            "32/32 [==============================] - 5s 158ms/step - loss: 0.2077 - accuracy: 0.9301 - val_loss: 0.2751 - val_accuracy: 0.8977\n",
            "Epoch 18/50\n",
            "32/32 [==============================] - 5s 158ms/step - loss: 0.2567 - accuracy: 0.8982 - val_loss: 0.6395 - val_accuracy: 0.6818\n",
            "Epoch 19/50\n",
            "32/32 [==============================] - 5s 160ms/step - loss: 0.2033 - accuracy: 0.9361 - val_loss: 0.2741 - val_accuracy: 0.8864\n",
            "Epoch 20/50\n",
            "32/32 [==============================] - 5s 158ms/step - loss: 0.1772 - accuracy: 0.9401 - val_loss: 0.3051 - val_accuracy: 0.8580\n",
            "Epoch 21/50\n",
            "32/32 [==============================] - 5s 157ms/step - loss: 0.1749 - accuracy: 0.9381 - val_loss: 0.2331 - val_accuracy: 0.9261\n",
            "Epoch 22/50\n",
            "32/32 [==============================] - 5s 160ms/step - loss: 0.1513 - accuracy: 0.9512 - val_loss: 0.2344 - val_accuracy: 0.9375\n",
            "Epoch 23/50\n",
            "32/32 [==============================] - 5s 159ms/step - loss: 0.1545 - accuracy: 0.9501 - val_loss: 0.2442 - val_accuracy: 0.9261\n",
            "Epoch 24/50\n",
            "32/32 [==============================] - 5s 157ms/step - loss: 0.1441 - accuracy: 0.9561 - val_loss: 0.2806 - val_accuracy: 0.8920\n",
            "Epoch 25/50\n",
            "32/32 [==============================] - 5s 158ms/step - loss: 0.1460 - accuracy: 0.9581 - val_loss: 0.2503 - val_accuracy: 0.9034\n",
            "Epoch 26/50\n",
            "32/32 [==============================] - 5s 157ms/step - loss: 0.1582 - accuracy: 0.9461 - val_loss: 0.3247 - val_accuracy: 0.8523\n",
            "Epoch 27/50\n",
            "32/32 [==============================] - 5s 160ms/step - loss: 0.1858 - accuracy: 0.9219 - val_loss: 0.2035 - val_accuracy: 0.9432\n",
            "Epoch 28/50\n",
            "32/32 [==============================] - 5s 158ms/step - loss: 0.1228 - accuracy: 0.9641 - val_loss: 0.2926 - val_accuracy: 0.8807\n",
            "Epoch 29/50\n",
            "32/32 [==============================] - 5s 159ms/step - loss: 0.1751 - accuracy: 0.9316 - val_loss: 0.2381 - val_accuracy: 0.9148\n",
            "Epoch 30/50\n",
            "32/32 [==============================] - 5s 158ms/step - loss: 0.2105 - accuracy: 0.9122 - val_loss: 0.1628 - val_accuracy: 0.9545\n",
            "Epoch 31/50\n",
            "32/32 [==============================] - 5s 158ms/step - loss: 0.1172 - accuracy: 0.9661 - val_loss: 0.2029 - val_accuracy: 0.9375\n",
            "Epoch 32/50\n",
            "32/32 [==============================] - 5s 160ms/step - loss: 0.1371 - accuracy: 0.9434 - val_loss: 0.5430 - val_accuracy: 0.8011\n",
            "Epoch 33/50\n",
            "32/32 [==============================] - 5s 158ms/step - loss: 0.1050 - accuracy: 0.9681 - val_loss: 0.3145 - val_accuracy: 0.8693\n",
            "Epoch 34/50\n",
            "32/32 [==============================] - 5s 158ms/step - loss: 0.1383 - accuracy: 0.9461 - val_loss: 0.1767 - val_accuracy: 0.9432\n",
            "Epoch 35/50\n",
            "32/32 [==============================] - 5s 157ms/step - loss: 0.1840 - accuracy: 0.9222 - val_loss: 0.1999 - val_accuracy: 0.9375\n",
            "Epoch 36/50\n",
            "32/32 [==============================] - 5s 158ms/step - loss: 0.0896 - accuracy: 0.9741 - val_loss: 0.1940 - val_accuracy: 0.9375\n",
            "Epoch 37/50\n",
            "32/32 [==============================] - 5s 158ms/step - loss: 0.1578 - accuracy: 0.9361 - val_loss: 0.5173 - val_accuracy: 0.8068\n",
            "Epoch 38/50\n",
            "32/32 [==============================] - 5s 159ms/step - loss: 0.0966 - accuracy: 0.9581 - val_loss: 0.2713 - val_accuracy: 0.8864\n",
            "Epoch 39/50\n",
            "32/32 [==============================] - 5s 157ms/step - loss: 0.1410 - accuracy: 0.9441 - val_loss: 0.2052 - val_accuracy: 0.9318\n",
            "Epoch 40/50\n",
            "32/32 [==============================] - 5s 157ms/step - loss: 0.1028 - accuracy: 0.9661 - val_loss: 0.2778 - val_accuracy: 0.8864\n",
            "Epoch 41/50\n",
            "32/32 [==============================] - 5s 158ms/step - loss: 0.0873 - accuracy: 0.9721 - val_loss: 0.1500 - val_accuracy: 0.9432\n",
            "Epoch 42/50\n",
            "32/32 [==============================] - 5s 158ms/step - loss: 0.0858 - accuracy: 0.9741 - val_loss: 0.1969 - val_accuracy: 0.9432\n",
            "Epoch 43/50\n",
            "32/32 [==============================] - 5s 158ms/step - loss: 0.3307 - accuracy: 0.8802 - val_loss: 0.1826 - val_accuracy: 0.9205\n",
            "Epoch 44/50\n",
            "32/32 [==============================] - 5s 157ms/step - loss: 0.1021 - accuracy: 0.9521 - val_loss: 0.2181 - val_accuracy: 0.9375\n",
            "Epoch 45/50\n",
            "32/32 [==============================] - 5s 157ms/step - loss: 0.0810 - accuracy: 0.9681 - val_loss: 0.1983 - val_accuracy: 0.9318\n",
            "Epoch 46/50\n",
            "32/32 [==============================] - 5s 157ms/step - loss: 0.0895 - accuracy: 0.9621 - val_loss: 0.1845 - val_accuracy: 0.9489\n",
            "Epoch 47/50\n",
            "32/32 [==============================] - 5s 158ms/step - loss: 0.0715 - accuracy: 0.9800 - val_loss: 0.1737 - val_accuracy: 0.9489\n",
            "Epoch 48/50\n",
            "32/32 [==============================] - 5s 157ms/step - loss: 0.1319 - accuracy: 0.9401 - val_loss: 0.1709 - val_accuracy: 0.9205\n",
            "Epoch 49/50\n",
            "32/32 [==============================] - 5s 157ms/step - loss: 0.0854 - accuracy: 0.9721 - val_loss: 0.2310 - val_accuracy: 0.9375\n",
            "Epoch 50/50\n",
            "32/32 [==============================] - 5s 157ms/step - loss: 0.0703 - accuracy: 0.9760 - val_loss: 0.2262 - val_accuracy: 0.9375\n"
          ],
          "name": "stdout"
        }
      ]
    },
    {
      "cell_type": "code",
      "metadata": {
        "id": "jdBcJujz9h3z",
        "colab_type": "code",
        "colab": {
          "base_uri": "https://localhost:8080/",
          "height": 295
        },
        "outputId": "8f512713-1181-408e-b277-455d5fe8c5bf"
      },
      "source": [
        "import matplotlib.pyplot as plt\n",
        "\n",
        "# Plot training & validation loss values\n",
        "plt.plot(history.history['loss'])\n",
        "plt.plot(history.history['val_loss'])\n",
        "plt.title('Model Loss')\n",
        "plt.ylabel('Loss')\n",
        "plt.xlabel('Epoch')\n",
        "plt.legend(['Train', 'Test'], loc='upper left')\n",
        "plt.show();"
      ],
      "execution_count": 14,
      "outputs": [
        {
          "output_type": "display_data",
          "data": {
            "image/png": "[encoded data removed]",
            "text/plain": [
              "<Figure size 432x288 with 1 Axes>"
            ]
          },
          "metadata": {
            "tags": [],
            "needs_background": "light"
          }
        }
      ]
    },
    {
      "cell_type": "code",
      "metadata": {
        "id": "FscsL-Yv1Waj",
        "colab_type": "code",
        "colab": {
          "base_uri": "https://localhost:8080/",
          "height": 295
        },
        "outputId": "36e0e2a8-ebbe-4a2c-ccb2-aae774a46aa4"
      },
      "source": [
        "import matplotlib.pyplot as plt\n",
        "\n",
        "# Plot training & validation loss values\n",
        "plt.plot(history.history['accuracy'])\n",
        "plt.plot(history.history['val_accuracy'])\n",
        "plt.title('Model Accuracy')\n",
        "plt.ylabel('Loss')\n",
        "plt.xlabel('Epoch')\n",
        "plt.legend(['Train', 'Test'], loc='upper left')\n",
        "plt.show();"
      ],
      "execution_count": 15,
      "outputs": [
        {
          "output_type": "display_data",
          "data": {
            "image/png": "[encoded data removed]",
            "text/plain": [
              "<Figure size 432x288 with 1 Axes>"
            ]
          },
          "metadata": {
            "tags": [],
            "needs_background": "light"
          }
        }
      ]
    },
    {
      "cell_type": "markdown",
      "metadata": {
        "id": "mzm_d5d_a8Yy",
        "colab_type": "text"
      },
      "source": [
        "# Custom CNN Model\n",
        "\n",
        "In this step, write and train your own convolutional neural network using Keras. You can use any architecture that suits you as long as it has at least one convolutional and one pooling layer at the beginning of the network - you can add more if you want. "
      ]
    },
    {
      "cell_type": "code",
      "metadata": {
        "id": "fZlTcmHaa8Yy",
        "colab_type": "code",
        "colab": {
          "base_uri": "https://localhost:8080/",
          "height": 425
        },
        "outputId": "5ad2a222-3587-4297-c43c-c621e1997c9c"
      },
      "source": [
        "# Define the Model\n",
        "from tensorflow.keras.models import Sequential\n",
        "from tensorflow.keras.layers import Conv2D, MaxPooling2D, Flatten, Dense\n",
        "\n",
        "model = Sequential([\n",
        "    Conv2D(224, (3,3), activation='relu', input_shape=(IMG_HEIGHT, IMG_WIDTH,3)),\n",
        "    MaxPooling2D((2,2)),\n",
        "    Conv2D(64, (3,3), activation='relu'),\n",
        "    MaxPooling2D((2,2)),\n",
        "    Conv2D(64, (3,3), activation='relu'),\n",
        "    Flatten(),\n",
        "    Dense(64, activation='relu'),\n",
        "    Dense(1, activation='sigmoid'),\n",
        "])\n",
        "\n",
        "model.summary()"
      ],
      "execution_count": 16,
      "outputs": [
        {
          "output_type": "stream",
          "text": [
            "Model: \"sequential\"\n",
            "_________________________________________________________________\n",
            "Layer (type)                 Output Shape              Param #   \n",
            "=================================================================\n",
            "conv2d (Conv2D)              (None, 222, 222, 224)     6272      \n",
            "_________________________________________________________________\n",
            "max_pooling2d (MaxPooling2D) (None, 111, 111, 224)     0         \n",
            "_________________________________________________________________\n",
            "conv2d_1 (Conv2D)            (None, 109, 109, 64)      129088    \n",
            "_________________________________________________________________\n",
            "max_pooling2d_1 (MaxPooling2 (None, 54, 54, 64)        0         \n",
            "_________________________________________________________________\n",
            "conv2d_2 (Conv2D)            (None, 52, 52, 64)        36928     \n",
            "_________________________________________________________________\n",
            "flatten (Flatten)            (None, 173056)            0         \n",
            "_________________________________________________________________\n",
            "dense_2 (Dense)              (None, 64)                11075648  \n",
            "_________________________________________________________________\n",
            "dense_3 (Dense)              (None, 1)                 65        \n",
            "=================================================================\n",
            "Total params: 11,248,001\n",
            "Trainable params: 11,248,001\n",
            "Non-trainable params: 0\n",
            "_________________________________________________________________\n"
          ],
          "name": "stdout"
        }
      ]
    },
    {
      "cell_type": "code",
      "metadata": {
        "id": "3D1SpevYa8Y1",
        "colab_type": "code",
        "colab": {}
      },
      "source": [
        "# Compile Model\n",
        "model.compile(optimizer='adam',\n",
        "              loss=\"binary_crossentropy\",\n",
        "              metrics=['accuracy'])"
      ],
      "execution_count": 17,
      "outputs": []
    },
    {
      "cell_type": "code",
      "metadata": {
        "id": "oXm9i5hGa8Y4",
        "colab_type": "code",
        "colab": {
          "base_uri": "https://localhost:8080/",
          "height": 1000
        },
        "outputId": "a5b1ec5c-17c4-4dcd-80a7-24caee480e2a"
      },
      "source": [
        "# Fit Model\n",
        "best = model.fit(train_data_gen,\n",
        "                   steps_per_epoch=total_train // batch_size,\n",
        "                   epochs=epochs,\n",
        "                   validation_data=val_data_gen,\n",
        "                   validation_steps=total_val // batch_size)"
      ],
      "execution_count": 18,
      "outputs": [
        {
          "output_type": "stream",
          "text": [
            "Epoch 1/50\n",
            "32/32 [==============================] - 7s 224ms/step - loss: 0.5022 - accuracy: 0.7605 - val_loss: 0.4272 - val_accuracy: 0.8636\n",
            "Epoch 2/50\n",
            "32/32 [==============================] - 6s 200ms/step - loss: 0.2701 - accuracy: 0.8962 - val_loss: 0.2810 - val_accuracy: 0.8864\n",
            "Epoch 3/50\n",
            "32/32 [==============================] - 6s 202ms/step - loss: 0.2018 - accuracy: 0.9297 - val_loss: 0.3615 - val_accuracy: 0.8807\n",
            "Epoch 4/50\n",
            "32/32 [==============================] - 6s 199ms/step - loss: 0.1591 - accuracy: 0.9361 - val_loss: 0.2281 - val_accuracy: 0.9261\n",
            "Epoch 5/50\n",
            "32/32 [==============================] - 6s 199ms/step - loss: 0.2318 - accuracy: 0.9022 - val_loss: 0.3207 - val_accuracy: 0.8920\n",
            "Epoch 6/50\n",
            "32/32 [==============================] - 6s 200ms/step - loss: 0.1328 - accuracy: 0.9501 - val_loss: 0.2134 - val_accuracy: 0.9205\n",
            "Epoch 7/50\n",
            "32/32 [==============================] - 6s 197ms/step - loss: 0.1246 - accuracy: 0.9481 - val_loss: 0.1207 - val_accuracy: 0.9545\n",
            "Epoch 8/50\n",
            "32/32 [==============================] - 6s 198ms/step - loss: 0.1691 - accuracy: 0.9281 - val_loss: 0.2036 - val_accuracy: 0.9205\n",
            "Epoch 9/50\n",
            "32/32 [==============================] - 6s 198ms/step - loss: 0.1449 - accuracy: 0.9461 - val_loss: 0.2280 - val_accuracy: 0.9318\n",
            "Epoch 10/50\n",
            "32/32 [==============================] - 6s 199ms/step - loss: 0.0686 - accuracy: 0.9780 - val_loss: 0.3495 - val_accuracy: 0.8864\n",
            "Epoch 11/50\n",
            "32/32 [==============================] - 6s 201ms/step - loss: 0.0928 - accuracy: 0.9688 - val_loss: 0.1802 - val_accuracy: 0.9318\n",
            "Epoch 12/50\n",
            "32/32 [==============================] - 6s 199ms/step - loss: 0.0248 - accuracy: 0.9920 - val_loss: 0.2780 - val_accuracy: 0.9148\n",
            "Epoch 13/50\n",
            "32/32 [==============================] - 6s 198ms/step - loss: 0.0593 - accuracy: 0.9800 - val_loss: 0.1681 - val_accuracy: 0.9318\n",
            "Epoch 14/50\n",
            "32/32 [==============================] - 6s 198ms/step - loss: 0.0131 - accuracy: 0.9980 - val_loss: 0.2702 - val_accuracy: 0.9034\n",
            "Epoch 15/50\n",
            "32/32 [==============================] - 6s 199ms/step - loss: 0.0030 - accuracy: 1.0000 - val_loss: 0.2334 - val_accuracy: 0.9375\n",
            "Epoch 16/50\n",
            "32/32 [==============================] - 6s 199ms/step - loss: 0.0055 - accuracy: 0.9980 - val_loss: 0.1291 - val_accuracy: 0.9375\n",
            "Epoch 17/50\n",
            "32/32 [==============================] - 6s 199ms/step - loss: 0.0306 - accuracy: 0.9940 - val_loss: 0.1059 - val_accuracy: 0.9545\n",
            "Epoch 18/50\n",
            "32/32 [==============================] - 6s 198ms/step - loss: 0.0263 - accuracy: 0.9900 - val_loss: 0.1306 - val_accuracy: 0.9545\n",
            "Epoch 19/50\n",
            "32/32 [==============================] - 6s 198ms/step - loss: 0.0488 - accuracy: 0.9800 - val_loss: 0.1455 - val_accuracy: 0.9545\n",
            "Epoch 20/50\n",
            "32/32 [==============================] - 6s 200ms/step - loss: 0.0432 - accuracy: 0.9900 - val_loss: 0.4133 - val_accuracy: 0.9091\n",
            "Epoch 21/50\n",
            "32/32 [==============================] - 6s 198ms/step - loss: 0.0112 - accuracy: 0.9940 - val_loss: 0.6799 - val_accuracy: 0.8352\n",
            "Epoch 22/50\n",
            "32/32 [==============================] - 6s 200ms/step - loss: 0.0023 - accuracy: 1.0000 - val_loss: 0.2865 - val_accuracy: 0.9261\n",
            "Epoch 23/50\n",
            "32/32 [==============================] - 6s 199ms/step - loss: 0.0021 - accuracy: 1.0000 - val_loss: 0.4589 - val_accuracy: 0.8977\n",
            "Epoch 24/50\n",
            "32/32 [==============================] - 6s 200ms/step - loss: 5.3539e-04 - accuracy: 1.0000 - val_loss: 0.2467 - val_accuracy: 0.9375\n",
            "Epoch 25/50\n",
            "32/32 [==============================] - 6s 198ms/step - loss: 1.7570e-04 - accuracy: 1.0000 - val_loss: 0.2222 - val_accuracy: 0.9489\n",
            "Epoch 26/50\n",
            "32/32 [==============================] - 6s 198ms/step - loss: 1.2440e-04 - accuracy: 1.0000 - val_loss: 0.3335 - val_accuracy: 0.9375\n",
            "Epoch 27/50\n",
            "32/32 [==============================] - 6s 198ms/step - loss: 8.8648e-05 - accuracy: 1.0000 - val_loss: 0.3386 - val_accuracy: 0.9375\n",
            "Epoch 28/50\n",
            "32/32 [==============================] - 6s 198ms/step - loss: 6.9929e-05 - accuracy: 1.0000 - val_loss: 0.3595 - val_accuracy: 0.9318\n",
            "Epoch 29/50\n",
            "32/32 [==============================] - 6s 198ms/step - loss: 5.5859e-05 - accuracy: 1.0000 - val_loss: 0.2938 - val_accuracy: 0.9375\n",
            "Epoch 30/50\n",
            "32/32 [==============================] - 6s 199ms/step - loss: 4.6274e-05 - accuracy: 1.0000 - val_loss: 0.4067 - val_accuracy: 0.9318\n",
            "Epoch 31/50\n",
            "32/32 [==============================] - 6s 198ms/step - loss: 3.9878e-05 - accuracy: 1.0000 - val_loss: 0.3902 - val_accuracy: 0.9318\n",
            "Epoch 32/50\n",
            "32/32 [==============================] - 6s 199ms/step - loss: 3.5693e-05 - accuracy: 1.0000 - val_loss: 0.4042 - val_accuracy: 0.9318\n",
            "Epoch 33/50\n",
            "32/32 [==============================] - 6s 203ms/step - loss: 3.1248e-05 - accuracy: 1.0000 - val_loss: 0.3617 - val_accuracy: 0.9318\n",
            "Epoch 34/50\n",
            "32/32 [==============================] - 6s 199ms/step - loss: 2.7799e-05 - accuracy: 1.0000 - val_loss: 0.3767 - val_accuracy: 0.9375\n",
            "Epoch 35/50\n",
            "32/32 [==============================] - 6s 199ms/step - loss: 2.5404e-05 - accuracy: 1.0000 - val_loss: 0.4404 - val_accuracy: 0.9261\n",
            "Epoch 36/50\n",
            "32/32 [==============================] - 6s 201ms/step - loss: 2.3240e-05 - accuracy: 1.0000 - val_loss: 0.3958 - val_accuracy: 0.9318\n",
            "Epoch 37/50\n",
            "32/32 [==============================] - 6s 199ms/step - loss: 1.9831e-05 - accuracy: 1.0000 - val_loss: 0.3541 - val_accuracy: 0.9375\n",
            "Epoch 38/50\n",
            "32/32 [==============================] - 6s 199ms/step - loss: 1.8765e-05 - accuracy: 1.0000 - val_loss: 0.3802 - val_accuracy: 0.9375\n",
            "Epoch 39/50\n",
            "32/32 [==============================] - 6s 199ms/step - loss: 1.6876e-05 - accuracy: 1.0000 - val_loss: 0.4168 - val_accuracy: 0.9318\n",
            "Epoch 40/50\n",
            "32/32 [==============================] - 6s 202ms/step - loss: 1.5286e-05 - accuracy: 1.0000 - val_loss: 0.3040 - val_accuracy: 0.9545\n",
            "Epoch 41/50\n",
            "32/32 [==============================] - 6s 198ms/step - loss: 1.3874e-05 - accuracy: 1.0000 - val_loss: 0.4432 - val_accuracy: 0.9318\n",
            "Epoch 42/50\n",
            "32/32 [==============================] - 6s 199ms/step - loss: 1.2730e-05 - accuracy: 1.0000 - val_loss: 0.3803 - val_accuracy: 0.9318\n",
            "Epoch 43/50\n",
            "32/32 [==============================] - 6s 199ms/step - loss: 1.1594e-05 - accuracy: 1.0000 - val_loss: 0.4583 - val_accuracy: 0.9261\n",
            "Epoch 44/50\n",
            "32/32 [==============================] - 6s 198ms/step - loss: 1.0499e-05 - accuracy: 1.0000 - val_loss: 0.4526 - val_accuracy: 0.9318\n",
            "Epoch 45/50\n",
            "32/32 [==============================] - 6s 198ms/step - loss: 9.5568e-06 - accuracy: 1.0000 - val_loss: 0.4117 - val_accuracy: 0.9375\n",
            "Epoch 46/50\n",
            "32/32 [==============================] - 6s 199ms/step - loss: 8.8732e-06 - accuracy: 1.0000 - val_loss: 0.4494 - val_accuracy: 0.9375\n",
            "Epoch 47/50\n",
            "32/32 [==============================] - 7s 203ms/step - loss: 3.4595e-06 - accuracy: 1.0000 - val_loss: 0.4329 - val_accuracy: 0.9375\n",
            "Epoch 48/50\n",
            "32/32 [==============================] - 6s 199ms/step - loss: 8.0382e-06 - accuracy: 1.0000 - val_loss: 0.4638 - val_accuracy: 0.9318\n",
            "Epoch 49/50\n",
            "32/32 [==============================] - 6s 199ms/step - loss: 7.0383e-06 - accuracy: 1.0000 - val_loss: 0.4609 - val_accuracy: 0.9432\n",
            "Epoch 50/50\n",
            "32/32 [==============================] - 6s 200ms/step - loss: 6.6497e-06 - accuracy: 1.0000 - val_loss: 0.4718 - val_accuracy: 0.9318\n"
          ],
          "name": "stdout"
        }
      ]
    },
    {
      "cell_type": "code",
      "metadata": {
        "id": "ovVnfM1X1sh0",
        "colab_type": "code",
        "colab": {
          "base_uri": "https://localhost:8080/",
          "height": 295
        },
        "outputId": "2d7abf07-32a5-497d-86a6-80fd8c693212"
      },
      "source": [
        "import matplotlib.pyplot as plt\n",
        "\n",
        "# Plot training & validation loss values\n",
        "plt.plot(custom.history['accuracy'])\n",
        "plt.plot(custom.history['val_accuracy'])\n",
        "plt.title('Model Accuracy')\n",
        "plt.ylabel('Loss')\n",
        "plt.xlabel('Epoch')\n",
        "plt.legend(['Train', 'Test'], loc='upper left')\n",
        "plt.show();"
      ],
      "execution_count": 19,
      "outputs": [
        {
          "output_type": "display_data",
          "data": {
            "image/png": "[encoded data removed]",
            "text/plain": [
              "<Figure size 432x288 with 1 Axes>"
            ]
          },
          "metadata": {
            "tags": [],
            "needs_background": "light"
          }
        }
      ]
    },
    {
      "cell_type": "markdown",
      "metadata": {
        "id": "8yi6QtF3a8Y7",
        "colab_type": "text"
      },
      "source": [
        "# Custom CNN Model with Image Manipulations\n",
        "\n",
        "To simulate an increase in a sample of image, you can apply image manipulation techniques: cropping, rotation, stretching, etc. Luckily Keras has some handy functions for us to apply these techniques to our mountain and forest example. Simply, you should be able to modify our image generator for the problem. Check out these resources to help you get started: \n",
        "\n",
        "1. [Keras `ImageGenerator` Class](https://keras.io/preprocessing/image/#imagedatagenerator-class)\n",
        "2. [Building a powerful image classifier with very little data](https://blog.keras.io/building-powerful-image-classification-models-using-very-little-data.html)\n",
        " "
      ]
    },
    {
      "cell_type": "code",
      "metadata": {
        "id": "MapYSTFIa8Y7",
        "colab_type": "code",
        "colab": {}
      },
      "source": [
        ""
      ],
      "execution_count": null,
      "outputs": []
    },
    {
      "cell_type": "markdown",
      "metadata": {
        "colab_type": "text",
        "id": "uT3UV3gap9H6"
      },
      "source": [
        "# Resources and Stretch Goals\n",
        "\n",
        "Stretch goals\n",
        "- Enhance your code to use classes/functions and accept terms to search and classes to look for in recognizing the downloaded images (e.g. download images of parties, recognize all that contain balloons)\n",
        "- Check out [other available pretrained networks](https://tfhub.dev), try some and compare\n",
        "- Image recognition/classification is somewhat solved, but *relationships* between entities and describing an image is not - check out some of the extended resources (e.g. [Visual Genome](https://visualgenome.org/)) on the topic\n",
        "- Transfer learning - using images you source yourself, [retrain a classifier](https://www.tensorflow.org/hub/tutorials/image_retraining) with a new category\n",
        "- (Not CNN related) Use [piexif](https://pypi.org/project/piexif/) to check out the metadata of images passed in to your system - see if they're from a national park! (Note - many images lack GPS metadata, so this won't work in most cases, but still cool)\n",
        "\n",
        "Resources\n",
        "- [Deep Residual Learning for Image Recognition](https://arxiv.org/abs/1512.03385) - influential paper (introduced ResNet)\n",
        "- [YOLO: Real-Time Object Detection](https://pjreddie.com/darknet/yolo/) - an influential convolution based object detection system, focused on inference speed (for applications to e.g. self driving vehicles)\n",
        "- [R-CNN, Fast R-CNN, Faster R-CNN, YOLO](https://towardsdatascience.com/r-cnn-fast-r-cnn-faster-r-cnn-yolo-object-detection-algorithms-36d53571365e) - comparison of object detection systems\n",
        "- [Common Objects in Context](http://cocodataset.org/) - a large-scale object detection, segmentation, and captioning dataset\n",
        "- [Visual Genome](https://visualgenome.org/) - a dataset, a knowledge base, an ongoing effort to connect structured image concepts to language"
      ]
    }
  ]
}